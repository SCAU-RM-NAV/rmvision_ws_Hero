{
 "cells": [
  {
   "cell_type": "markdown",
   "metadata": {},
   "source": [
    "## sympy基础使用"
   ]
  },
  {
   "cell_type": "code",
   "execution_count": 6,
   "metadata": {},
   "outputs": [
    {
     "data": {
      "text/latex": [
       "$\\displaystyle \\left[\\begin{matrix}x\\\\x_{vel}\\\\y\\end{matrix}\\right]$"
      ],
      "text/plain": [
       "⎡ x  ⎤\n",
       "⎢    ⎥\n",
       "⎢xᵥₑₗ⎥\n",
       "⎢    ⎥\n",
       "⎣ y  ⎦"
      ]
     },
     "metadata": {},
     "output_type": "display_data"
    },
    {
     "data": {
      "text/latex": [
       "$\\displaystyle \\left[\\begin{matrix}\\frac{x}{\\sqrt{x^{2} + y^{2}}} & 0 & \\frac{y}{\\sqrt{x^{2} + y^{2}}}\\end{matrix}\\right]$"
      ],
      "text/plain": [
       "⎡     x                y      ⎤\n",
       "⎢────────────  0  ────────────⎥\n",
       "⎢   _________        _________⎥\n",
       "⎢  ╱  2    2        ╱  2    2 ⎥\n",
       "⎣╲╱  x  + y       ╲╱  x  + y  ⎦"
      ]
     },
     "metadata": {},
     "output_type": "display_data"
    }
   ],
   "source": [
    "import sympy\n",
    "from IPython.display import display\n",
    "sympy.init_printing(use_latex='mathjax')\n",
    "\n",
    "x, x_vel, y = sympy.symbols('x, x_vel y')\n",
    "\n",
    "H = sympy.Matrix([sympy.sqrt(x**2 + y**2)])\n",
    "\n",
    "state = sympy.Matrix([x, x_vel, y])\n",
    "J = H.jacobian(state)\n",
    "\n",
    "display(state)\n",
    "display(J)"
   ]
  },
  {
   "cell_type": "markdown",
   "metadata": {},
   "source": [
    "## 整车状态估计球面坐标系雅可比矩阵"
   ]
  },
  {
   "cell_type": "code",
   "execution_count": 7,
   "metadata": {},
   "outputs": [
    {
     "data": {
      "text/latex": [
       "$\\displaystyle \\left[\\begin{matrix}- \\frac{za \\left(- r \\cos{\\left(yaw \\right)} + xc\\right)}{\\sqrt{\\left(- r \\sin{\\left(yaw \\right)} + yc\\right)^{2} + \\left(- r \\cos{\\left(yaw \\right)} + xc\\right)^{2}} \\left(za^{2} + \\left(- r \\sin{\\left(yaw \\right)} + yc\\right)^{2} + \\left(- r \\cos{\\left(yaw \\right)} + xc\\right)^{2}\\right)} & 0 & - \\frac{za \\left(- r \\sin{\\left(yaw \\right)} + yc\\right)}{\\sqrt{\\left(- r \\sin{\\left(yaw \\right)} + yc\\right)^{2} + \\left(- r \\cos{\\left(yaw \\right)} + xc\\right)^{2}} \\left(za^{2} + \\left(- r \\sin{\\left(yaw \\right)} + yc\\right)^{2} + \\left(- r \\cos{\\left(yaw \\right)} + xc\\right)^{2}\\right)} & 0 & \\frac{\\sqrt{\\left(- r \\sin{\\left(yaw \\right)} + yc\\right)^{2} + \\left(- r \\cos{\\left(yaw \\right)} + xc\\right)^{2}}}{za^{2} + \\left(- r \\sin{\\left(yaw \\right)} + yc\\right)^{2} + \\left(- r \\cos{\\left(yaw \\right)} + xc\\right)^{2}} & 0 & - \\frac{za \\left(- r \\left(- r \\sin{\\left(yaw \\right)} + yc\\right) \\cos{\\left(yaw \\right)} + r \\left(- r \\cos{\\left(yaw \\right)} + xc\\right) \\sin{\\left(yaw \\right)}\\right)}{\\sqrt{\\left(- r \\sin{\\left(yaw \\right)} + yc\\right)^{2} + \\left(- r \\cos{\\left(yaw \\right)} + xc\\right)^{2}} \\left(za^{2} + \\left(- r \\sin{\\left(yaw \\right)} + yc\\right)^{2} + \\left(- r \\cos{\\left(yaw \\right)} + xc\\right)^{2}\\right)} & 0 & - \\frac{za \\left(- \\left(- r \\sin{\\left(yaw \\right)} + yc\\right) \\sin{\\left(yaw \\right)} - \\left(- r \\cos{\\left(yaw \\right)} + xc\\right) \\cos{\\left(yaw \\right)}\\right)}{\\sqrt{\\left(- r \\sin{\\left(yaw \\right)} + yc\\right)^{2} + \\left(- r \\cos{\\left(yaw \\right)} + xc\\right)^{2}} \\left(za^{2} + \\left(- r \\sin{\\left(yaw \\right)} + yc\\right)^{2} + \\left(- r \\cos{\\left(yaw \\right)} + xc\\right)^{2}\\right)}\\\\\\frac{r \\sin{\\left(yaw \\right)} - yc}{\\left(- r \\sin{\\left(yaw \\right)} + yc\\right)^{2} + \\left(- r \\cos{\\left(yaw \\right)} + xc\\right)^{2}} & 0 & \\frac{- r \\cos{\\left(yaw \\right)} + xc}{\\left(- r \\sin{\\left(yaw \\right)} + yc\\right)^{2} + \\left(- r \\cos{\\left(yaw \\right)} + xc\\right)^{2}} & 0 & 0 & 0 & \\frac{r \\left(r \\sin{\\left(yaw \\right)} - yc\\right) \\sin{\\left(yaw \\right)}}{\\left(- r \\sin{\\left(yaw \\right)} + yc\\right)^{2} + \\left(- r \\cos{\\left(yaw \\right)} + xc\\right)^{2}} - \\frac{r \\left(- r \\cos{\\left(yaw \\right)} + xc\\right) \\cos{\\left(yaw \\right)}}{\\left(- r \\sin{\\left(yaw \\right)} + yc\\right)^{2} + \\left(- r \\cos{\\left(yaw \\right)} + xc\\right)^{2}} & 0 & - \\frac{\\left(r \\sin{\\left(yaw \\right)} - yc\\right) \\cos{\\left(yaw \\right)}}{\\left(- r \\sin{\\left(yaw \\right)} + yc\\right)^{2} + \\left(- r \\cos{\\left(yaw \\right)} + xc\\right)^{2}} - \\frac{\\left(- r \\cos{\\left(yaw \\right)} + xc\\right) \\sin{\\left(yaw \\right)}}{\\left(- r \\sin{\\left(yaw \\right)} + yc\\right)^{2} + \\left(- r \\cos{\\left(yaw \\right)} + xc\\right)^{2}}\\\\\\frac{- r \\cos{\\left(yaw \\right)} + xc}{\\sqrt{za^{2} + \\left(- r \\sin{\\left(yaw \\right)} + yc\\right)^{2} + \\left(- r \\cos{\\left(yaw \\right)} + xc\\right)^{2}}} & 0 & \\frac{- r \\sin{\\left(yaw \\right)} + yc}{\\sqrt{za^{2} + \\left(- r \\sin{\\left(yaw \\right)} + yc\\right)^{2} + \\left(- r \\cos{\\left(yaw \\right)} + xc\\right)^{2}}} & 0 & \\frac{za}{\\sqrt{za^{2} + \\left(- r \\sin{\\left(yaw \\right)} + yc\\right)^{2} + \\left(- r \\cos{\\left(yaw \\right)} + xc\\right)^{2}}} & 0 & \\frac{- r \\left(- r \\sin{\\left(yaw \\right)} + yc\\right) \\cos{\\left(yaw \\right)} + r \\left(- r \\cos{\\left(yaw \\right)} + xc\\right) \\sin{\\left(yaw \\right)}}{\\sqrt{za^{2} + \\left(- r \\sin{\\left(yaw \\right)} + yc\\right)^{2} + \\left(- r \\cos{\\left(yaw \\right)} + xc\\right)^{2}}} & 0 & \\frac{- \\left(- r \\sin{\\left(yaw \\right)} + yc\\right) \\sin{\\left(yaw \\right)} - \\left(- r \\cos{\\left(yaw \\right)} + xc\\right) \\cos{\\left(yaw \\right)}}{\\sqrt{za^{2} + \\left(- r \\sin{\\left(yaw \\right)} + yc\\right)^{2} + \\left(- r \\cos{\\left(yaw \\right)} + xc\\right)^{2}}}\\\\0 & 0 & 0 & 0 & 0 & 0 & 1 & 0 & 0\\end{matrix}\\right]$"
      ],
      "text/plain": [
       "⎡                                                                             \n",
       "⎢                                                                             \n",
       "⎢                                    -za⋅(-r⋅cos(yaw) + xc)                   \n",
       "⎢─────────────────────────────────────────────────────────────────────────────\n",
       "⎢   ___________________________________________                               \n",
       "⎢  ╱                   2                     2  ⎛  2                     2    \n",
       "⎢╲╱  (-r⋅sin(yaw) + yc)  + (-r⋅cos(yaw) + xc)  ⋅⎝za  + (-r⋅sin(yaw) + yc)  + (\n",
       "⎢                                                                             \n",
       "⎢                                        r⋅sin(yaw) - yc                      \n",
       "⎢                           ─────────────────────────────────────────         \n",
       "⎢                                             2                     2         \n",
       "⎢                           (-r⋅sin(yaw) + yc)  + (-r⋅cos(yaw) + xc)          \n",
       "⎢                                                                             \n",
       "⎢                                        -r⋅cos(yaw) + xc                     \n",
       "⎢                      ────────────────────────────────────────────────────   \n",
       "⎢                         _________________________________________________   \n",
       "⎢                        ╱   2                     2                     2    \n",
       "⎢                      ╲╱  za  + (-r⋅sin(yaw) + yc)  + (-r⋅cos(yaw) + xc)     \n",
       "⎢                                                                             \n",
       "⎣                                               0                             \n",
       "\n",
       "                                                                              \n",
       "                                                                              \n",
       "                                                            -za⋅(-r⋅sin(yaw) +\n",
       "───────────────────  0  ──────────────────────────────────────────────────────\n",
       "                           ___________________________________________        \n",
       "                 2⎞       ╱                   2                     2  ⎛  2   \n",
       "-r⋅cos(yaw) + xc) ⎠     ╲╱  (-r⋅sin(yaw) + yc)  + (-r⋅cos(yaw) + xc)  ⋅⎝za  + \n",
       "                                                                              \n",
       "                                                                -r⋅cos(yaw) + \n",
       "                     0                             ───────────────────────────\n",
       "                                                                     2        \n",
       "                                                   (-r⋅sin(yaw) + yc)  + (-r⋅c\n",
       "                                                                              \n",
       "                                                                -r⋅sin(yaw) + \n",
       "                     0                        ────────────────────────────────\n",
       "                                                 _____________________________\n",
       "                                                ╱   2                     2   \n",
       "                                              ╲╱  za  + (-r⋅sin(yaw) + yc)  + \n",
       "                                                                              \n",
       "                     0                                                 0      \n",
       "\n",
       "                                                     _________________________\n",
       "                                                    ╱                   2     \n",
       " yc)                                              ╲╱  (-r⋅sin(yaw) + yc)  + (-\n",
       "──────────────────────────────────────────  0    ─────────────────────────────\n",
       "                                                   2                     2    \n",
       "                  2                     2⎞       za  + (-r⋅sin(yaw) + yc)  + (\n",
       "(-r⋅sin(yaw) + yc)  + (-r⋅cos(yaw) + xc) ⎠                                    \n",
       "                                                                              \n",
       "xc                                                                            \n",
       "──────────────                              0                           0     \n",
       "             2                                                                \n",
       "os(yaw) + xc)                                                                 \n",
       "                                                                              \n",
       "yc                                                                      za    \n",
       "────────────────────                        0  ───────────────────────────────\n",
       "____________________                              ____________________________\n",
       "                  2                              ╱   2                     2  \n",
       "(-r⋅cos(yaw) + xc)                             ╲╱  za  + (-r⋅sin(yaw) + yc)  +\n",
       "                                                                              \n",
       "                                            0                           0     \n",
       "\n",
       "__________________                                                            \n",
       "                2                                                             \n",
       "r⋅cos(yaw) + xc)                       -za⋅(-r⋅(-r⋅sin(yaw) + yc)⋅cos(yaw) + r\n",
       "──────────────────     0  ────────────────────────────────────────────────────\n",
       "                 2           ___________________________________________      \n",
       "-r⋅cos(yaw) + xc)           ╱                   2                     2  ⎛  2 \n",
       "                          ╲╱  (-r⋅sin(yaw) + yc)  + (-r⋅cos(yaw) + xc)  ⋅⎝za  \n",
       "                                                                              \n",
       "                                      r⋅(r⋅sin(yaw) - yc)⋅sin(yaw)            \n",
       "                       0       ───────────────────────────────────────── - ───\n",
       "                                                 2                     2      \n",
       "                               (-r⋅sin(yaw) + yc)  + (-r⋅cos(yaw) + xc)    (-r\n",
       "                                                                              \n",
       "                                           -r⋅(-r⋅sin(yaw) + yc)⋅cos(yaw) + r⋅\n",
       "─────────────────────  0                   ───────────────────────────────────\n",
       "_____________________                              ___________________________\n",
       "                   2                              ╱   2                     2 \n",
       " (-r⋅cos(yaw) + xc)                             ╲╱  za  + (-r⋅sin(yaw) + yc)  \n",
       "                                                                              \n",
       "                       0                                                 1    \n",
       "\n",
       "                                                                              \n",
       "                                                                              \n",
       "⋅(-r⋅cos(yaw) + xc)⋅sin(yaw))                                   -za⋅(-(-r⋅sin(\n",
       "────────────────────────────────────────────  0  ─────────────────────────────\n",
       "                                                    __________________________\n",
       "                    2                     2⎞       ╱                   2      \n",
       "+ (-r⋅sin(yaw) + yc)  + (-r⋅cos(yaw) + xc) ⎠     ╲╱  (-r⋅sin(yaw) + yc)  + (-r\n",
       "                                                                              \n",
       "   r⋅(-r⋅cos(yaw) + xc)⋅cos(yaw)                               (r⋅sin(yaw) - y\n",
       "──────────────────────────────────────        0      - ───────────────────────\n",
       "               2                     2                                   2    \n",
       "⋅sin(yaw) + yc)  + (-r⋅cos(yaw) + xc)                  (-r⋅sin(yaw) + yc)  + (\n",
       "                                                                              \n",
       "(-r⋅cos(yaw) + xc)⋅sin(yaw)                                         -(-r⋅sin(y\n",
       "───────────────────────────                   0                     ──────────\n",
       "______________________                                                    ____\n",
       "                    2                                                    ╱   2\n",
       "+ (-r⋅cos(yaw) + xc)                                                   ╲╱  za \n",
       "                                                                              \n",
       "                                              0                               \n",
       "\n",
       "                                                                   ⎤\n",
       "                                                                   ⎥\n",
       "yaw) + yc)⋅sin(yaw) - (-r⋅cos(yaw) + xc)⋅cos(yaw))                 ⎥\n",
       "───────────────────────────────────────────────────────────────────⎥\n",
       "_________________                                                  ⎥\n",
       "               2  ⎛  2                     2                     2⎞⎥\n",
       "⋅cos(yaw) + xc)  ⋅⎝za  + (-r⋅sin(yaw) + yc)  + (-r⋅cos(yaw) + xc) ⎠⎥\n",
       "                                                                   ⎥\n",
       "c)⋅cos(yaw)                 (-r⋅cos(yaw) + xc)⋅sin(yaw)            ⎥\n",
       "────────────────── - ─────────────────────────────────────────     ⎥\n",
       "                 2                     2                     2     ⎥\n",
       "-r⋅cos(yaw) + xc)    (-r⋅sin(yaw) + yc)  + (-r⋅cos(yaw) + xc)      ⎥\n",
       "                                                                   ⎥\n",
       "aw) + yc)⋅sin(yaw) - (-r⋅cos(yaw) + xc)⋅cos(yaw)                   ⎥\n",
       "────────────────────────────────────────────────                   ⎥\n",
       "_____________________________________________                      ⎥\n",
       "                     2                     2                       ⎥\n",
       " + (-r⋅sin(yaw) + yc)  + (-r⋅cos(yaw) + xc)                        ⎥\n",
       "                                                                   ⎥\n",
       "                  0                                                ⎦"
      ]
     },
     "execution_count": 7,
     "metadata": {},
     "output_type": "execute_result"
    }
   ],
   "source": [
    "from sympy import atan2, sin, cos, tan, sqrt\n",
    "\n",
    "yaw_c, pit_c, dis_c, yaw_a = sympy.symbols(\"yaw_c, pit_c, dis_c, yaw_a\")\n",
    "xc, v_xc, yc, v_yc, za, v_za, yaw, v_yaw, r = sympy.symbols(\"xc, v_xc, yc, v_yc, za, v_za, yaw, v_yaw, r\")\n",
    "xa, ya= sympy.symbols(\"xa, ya\")\n",
    "\n",
    "xa = xc - r*cos(yaw)\n",
    "ya = yc - r*sin(yaw)\n",
    "\n",
    "yaw_c = atan2(ya , xa)\n",
    "pit_c = atan2(za, sqrt(xa*xa + ya*ya))\n",
    "dis_c = sqrt(xa*xa + ya*ya + za*za)\n",
    "yaw_a = yaw\n",
    "\n",
    "funcs = sympy.Matrix([pit_c, yaw_c, dis_c, yaw_a])\n",
    "args = sympy.Matrix([xc, v_xc, yc, v_yc, za, v_za, yaw, v_yaw, r])\n",
    "res = funcs.jacobian(args)\n",
    "\n",
    "res"
   ]
  },
  {
   "cell_type": "code",
   "execution_count": 8,
   "metadata": {},
   "outputs": [
    {
     "name": "stdout",
     "output_type": "stream",
     "text": [
      "Matrix([[-za*(-r*cos(yaw) + xc)/(sqrt((-r*sin(yaw) + yc)**2 + (-r*cos(yaw) + xc)**2)*(za**2 + (-r*sin(yaw) + yc)**2 + (-r*cos(yaw) + xc)**2)), 0, -za*(-r*sin(yaw) + yc)/(sqrt((-r*sin(yaw) + yc)**2 + (-r*cos(yaw) + xc)**2)*(za**2 + (-r*sin(yaw) + yc)**2 + (-r*cos(yaw) + xc)**2)), 0, sqrt((-r*sin(yaw) + yc)**2 + (-r*cos(yaw) + xc)**2)/(za**2 + (-r*sin(yaw) + yc)**2 + (-r*cos(yaw) + xc)**2), 0, -za*(-r*(-r*sin(yaw) + yc)*cos(yaw) + r*(-r*cos(yaw) + xc)*sin(yaw))/(sqrt((-r*sin(yaw) + yc)**2 + (-r*cos(yaw) + xc)**2)*(za**2 + (-r*sin(yaw) + yc)**2 + (-r*cos(yaw) + xc)**2)), 0, -za*(-(-r*sin(yaw) + yc)*sin(yaw) - (-r*cos(yaw) + xc)*cos(yaw))/(sqrt((-r*sin(yaw) + yc)**2 + (-r*cos(yaw) + xc)**2)*(za**2 + (-r*sin(yaw) + yc)**2 + (-r*cos(yaw) + xc)**2))], [(r*sin(yaw) - yc)/((-r*sin(yaw) + yc)**2 + (-r*cos(yaw) + xc)**2), 0, (-r*cos(yaw) + xc)/((-r*sin(yaw) + yc)**2 + (-r*cos(yaw) + xc)**2), 0, 0, 0, r*(r*sin(yaw) - yc)*sin(yaw)/((-r*sin(yaw) + yc)**2 + (-r*cos(yaw) + xc)**2) - r*(-r*cos(yaw) + xc)*cos(yaw)/((-r*sin(yaw) + yc)**2 + (-r*cos(yaw) + xc)**2), 0, -(r*sin(yaw) - yc)*cos(yaw)/((-r*sin(yaw) + yc)**2 + (-r*cos(yaw) + xc)**2) - (-r*cos(yaw) + xc)*sin(yaw)/((-r*sin(yaw) + yc)**2 + (-r*cos(yaw) + xc)**2)], [(-r*cos(yaw) + xc)/sqrt(za**2 + (-r*sin(yaw) + yc)**2 + (-r*cos(yaw) + xc)**2), 0, (-r*sin(yaw) + yc)/sqrt(za**2 + (-r*sin(yaw) + yc)**2 + (-r*cos(yaw) + xc)**2), 0, za/sqrt(za**2 + (-r*sin(yaw) + yc)**2 + (-r*cos(yaw) + xc)**2), 0, (-r*(-r*sin(yaw) + yc)*cos(yaw) + r*(-r*cos(yaw) + xc)*sin(yaw))/sqrt(za**2 + (-r*sin(yaw) + yc)**2 + (-r*cos(yaw) + xc)**2), 0, (-(-r*sin(yaw) + yc)*sin(yaw) - (-r*cos(yaw) + xc)*cos(yaw))/sqrt(za**2 + (-r*sin(yaw) + yc)**2 + (-r*cos(yaw) + xc)**2)], [0, 0, 0, 0, 0, 0, 1, 0, 0]])\n"
     ]
    }
   ],
   "source": [
    "print(res)"
   ]
  }
 ],
 "metadata": {
  "kernelspec": {
   "display_name": "Python 3",
   "language": "python",
   "name": "python3"
  },
  "language_info": {
   "codemirror_mode": {
    "name": "ipython",
    "version": 3
   },
   "file_extension": ".py",
   "mimetype": "text/x-python",
   "name": "python",
   "nbconvert_exporter": "python",
   "pygments_lexer": "ipython3",
   "version": "3.10.12"
  }
 },
 "nbformat": 4,
 "nbformat_minor": 2
}
